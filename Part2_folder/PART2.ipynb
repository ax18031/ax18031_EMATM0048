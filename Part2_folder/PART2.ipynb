{
 "cells": [
  {
   "cell_type": "markdown",
   "metadata": {},
   "source": [
    "# Part 2: Algorithm Analysis\n",
    "\n",
    "For this question, I will be writing the code for the given problem. Sorting the house numbers with odd descending then even increasing. "
   ]
  },
  {
   "cell_type": "code",
   "execution_count": 8,
   "metadata": {},
   "outputs": [],
   "source": [
    "def sort_house(array):\n",
    "    \"\"\"\"this code sorts numbers of houses in a way such that the first part contains odd numbers sorted in\n",
    "    descending order and the second part contains even numbers sorted in ascending order\"\"\"\n",
    "    array.sort()#sorting the array in ascending order\n",
    "    odd = []\n",
    "    even = []#two empty list so we can deal with odd and even seperately \n",
    "    for a in array:#for loop going through our array \n",
    "        if a%2!=0:#if a number modulo 2 is not zero implies the number is odd\n",
    "            odd.append(a)\n",
    "        else:#if a number modulo 2 is zero this means it is even\n",
    "            even.append(a)\n",
    "    m = len(odd)\n",
    "    for i in range(m):#iterate through the index's of odd\n",
    "        odd_sorted = True\n",
    "        for j in range(m-i-1):\n",
    "            if odd[j]<odd[j+1]:#if the value in j position is less than the value in the j+1 position\n",
    "                odd[j],odd[j+1]=odd[j+1],odd[j]#swapping adjacent values\n",
    "                odd_sorted = False#the input array was not sorted so a new one has been made\n",
    "        if odd_sorted:\n",
    "            break\n",
    "    return odd+even#we want to return the two lists as one"
   ]
  },
  {
   "cell_type": "code",
   "execution_count": 9,
   "metadata": {},
   "outputs": [
    {
     "data": {
      "text/plain": [
       "[7, 5, 3, 1, 2, 4, 10]"
      ]
     },
     "execution_count": 9,
     "metadata": {},
     "output_type": "execute_result"
    }
   ],
   "source": [
    "array1 = [1,2,3,5,4,7,10]\n",
    "sort_house(array1)"
   ]
  },
  {
   "cell_type": "code",
   "execution_count": 10,
   "metadata": {},
   "outputs": [
    {
     "data": {
      "text/plain": [
       "[7, 5, 3, 1, 0, 2, 4]"
      ]
     },
     "execution_count": 10,
     "metadata": {},
     "output_type": "execute_result"
    }
   ],
   "source": [
    "array2 = [0,4,5,3,7,2,1]\n",
    "sort_house(array2)"
   ]
  },
  {
   "cell_type": "code",
   "execution_count": 11,
   "metadata": {},
   "outputs": [
    {
     "data": {
      "text/plain": [
       "[0, 56, 88, 1002344]"
      ]
     },
     "execution_count": 11,
     "metadata": {},
     "output_type": "execute_result"
    }
   ],
   "source": [
    "array3 = [0,1002344,56,88]\n",
    "sort_house(array3)"
   ]
  },
  {
   "cell_type": "code",
   "execution_count": 12,
   "metadata": {},
   "outputs": [
    {
     "data": {
      "text/plain": [
       "[97898909, 999, 99, 9, 7, 5, 3, 3, 1, 0, 0, 0, 2, 4, 6, 8, 10, 100]"
      ]
     },
     "execution_count": 12,
     "metadata": {},
     "output_type": "execute_result"
    }
   ],
   "source": [
    "array4=[100,10,9,8,7,6,5,4,3,3,2,1,0,0,0,99,999,97898909]\n",
    "sort_house(array4)"
   ]
  },
  {
   "cell_type": "code",
   "execution_count": 13,
   "metadata": {},
   "outputs": [
    {
     "data": {
      "text/plain": [
       "[6778809089535,\n",
       " 556565443,\n",
       " -1,\n",
       " -3345,\n",
       " -666,\n",
       " 22,\n",
       " 2948230945725984750289565240976235023975632062]"
      ]
     },
     "execution_count": 13,
     "metadata": {},
     "output_type": "execute_result"
    }
   ],
   "source": [
    "array5 = [-1,-666,-3345,6778809089535,556565443,2948230945725984750289565240976235023975632062,22]\n",
    "sort_house(array5)"
   ]
  },
  {
   "cell_type": "code",
   "execution_count": null,
   "metadata": {},
   "outputs": [],
   "source": []
  }
 ],
 "metadata": {
  "kernelspec": {
   "display_name": "Python 3",
   "language": "python",
   "name": "python3"
  },
  "language_info": {
   "codemirror_mode": {
    "name": "ipython",
    "version": 3
   },
   "file_extension": ".py",
   "mimetype": "text/x-python",
   "name": "python",
   "nbconvert_exporter": "python",
   "pygments_lexer": "ipython3",
   "version": "3.7.4"
  }
 },
 "nbformat": 4,
 "nbformat_minor": 2
}
